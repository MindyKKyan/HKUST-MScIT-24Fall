{
  "cells": [
    {
      "cell_type": "markdown",
      "metadata": {
        "id": "XvAgfKGfeeWw"
      },
      "source": [
        "# GAN / VAE Tutorial"
      ]
    },
    {
      "cell_type": "code",
      "source": [
        "from google.colab import drive\n",
        "drive.mount('/content/drive')"
      ],
      "metadata": {
        "id": "uZUwCOfrHJTj",
        "colab": {
          "base_uri": "https://localhost:8080/"
        },
        "outputId": "8dcfed92-85d9-4a81-b84b-f2b0491cf82e"
      },
      "execution_count": null,
      "outputs": [
        {
          "output_type": "stream",
          "name": "stdout",
          "text": [
            "Drive already mounted at /content/drive; to attempt to forcibly remount, call drive.mount(\"/content/drive\", force_remount=True).\n"
          ]
        }
      ]
    },
    {
      "cell_type": "markdown",
      "metadata": {
        "id": "CtX3fnj5eeWy"
      },
      "source": [
        "## Import and Set HyperParameters"
      ]
    },
    {
      "cell_type": "code",
      "execution_count": null,
      "metadata": {
        "id": "AtRmI4eNeeWz"
      },
      "outputs": [],
      "source": [
        "import os\n",
        "import torch\n",
        "import torchvision\n",
        "import torch.nn as nn\n",
        "from torchvision import transforms\n",
        "from torchvision.utils import save_image\n",
        "\n",
        "os.environ[\"KMP_DUPLICATE_LIB_OK\"]=\"TRUE\""
      ]
    },
    {
      "cell_type": "code",
      "execution_count": null,
      "metadata": {
        "id": "q97EcWNGeeW1"
      },
      "outputs": [],
      "source": [
        "# Device configuration\n",
        "device = torch.device('cuda' if torch.cuda.is_available() else 'cpu')"
      ]
    },
    {
      "cell_type": "code",
      "execution_count": null,
      "metadata": {
        "scrolled": true,
        "colab": {
          "base_uri": "https://localhost:8080/"
        },
        "id": "zQmjqFvZeeW1",
        "outputId": "cc2f2b19-1835-46ef-c47e-25519dcb2bec"
      },
      "outputs": [
        {
          "output_type": "execute_result",
          "data": {
            "text/plain": [
              "device(type='cpu')"
            ]
          },
          "metadata": {},
          "execution_count": 5
        }
      ],
      "source": [
        "device"
      ]
    },
    {
      "cell_type": "code",
      "execution_count": null,
      "metadata": {
        "colab": {
          "base_uri": "https://localhost:8080/"
        },
        "id": "iKsoF6OTeeW2",
        "outputId": "f48df0a4-2a0f-48e0-ab0f-ff7a8c8348ce"
      },
      "outputs": [
        {
          "output_type": "stream",
          "name": "stdout",
          "text": [
            "Downloading http://yann.lecun.com/exdb/mnist/train-images-idx3-ubyte.gz\n",
            "Downloading http://yann.lecun.com/exdb/mnist/train-images-idx3-ubyte.gz to ./data/MNIST/raw/train-images-idx3-ubyte.gz\n"
          ]
        },
        {
          "output_type": "stream",
          "name": "stderr",
          "text": [
            "100%|██████████| 9912422/9912422 [00:00<00:00, 111957687.70it/s]\n"
          ]
        },
        {
          "output_type": "stream",
          "name": "stdout",
          "text": [
            "Extracting ./data/MNIST/raw/train-images-idx3-ubyte.gz to ./data/MNIST/raw\n",
            "\n",
            "Downloading http://yann.lecun.com/exdb/mnist/train-labels-idx1-ubyte.gz\n",
            "Downloading http://yann.lecun.com/exdb/mnist/train-labels-idx1-ubyte.gz to ./data/MNIST/raw/train-labels-idx1-ubyte.gz\n"
          ]
        },
        {
          "output_type": "stream",
          "name": "stderr",
          "text": [
            "100%|██████████| 28881/28881 [00:00<00:00, 36170705.83it/s]\n"
          ]
        },
        {
          "output_type": "stream",
          "name": "stdout",
          "text": [
            "Extracting ./data/MNIST/raw/train-labels-idx1-ubyte.gz to ./data/MNIST/raw\n",
            "\n",
            "Downloading http://yann.lecun.com/exdb/mnist/t10k-images-idx3-ubyte.gz\n",
            "Downloading http://yann.lecun.com/exdb/mnist/t10k-images-idx3-ubyte.gz to ./data/MNIST/raw/t10k-images-idx3-ubyte.gz\n"
          ]
        },
        {
          "output_type": "stream",
          "name": "stderr",
          "text": [
            "100%|██████████| 1648877/1648877 [00:00<00:00, 26130539.12it/s]\n"
          ]
        },
        {
          "output_type": "stream",
          "name": "stdout",
          "text": [
            "Extracting ./data/MNIST/raw/t10k-images-idx3-ubyte.gz to ./data/MNIST/raw\n",
            "\n",
            "Downloading http://yann.lecun.com/exdb/mnist/t10k-labels-idx1-ubyte.gz\n",
            "Downloading http://yann.lecun.com/exdb/mnist/t10k-labels-idx1-ubyte.gz to ./data/MNIST/raw/t10k-labels-idx1-ubyte.gz\n"
          ]
        },
        {
          "output_type": "stream",
          "name": "stderr",
          "text": [
            "100%|██████████| 4542/4542 [00:00<00:00, 13491875.90it/s]\n"
          ]
        },
        {
          "output_type": "stream",
          "name": "stdout",
          "text": [
            "Extracting ./data/MNIST/raw/t10k-labels-idx1-ubyte.gz to ./data/MNIST/raw\n",
            "\n"
          ]
        }
      ],
      "source": [
        "# Hyper-parameters\n",
        "latent_size = 64\n",
        "hidden_size = 256\n",
        "image_size = 28*28\n",
        "num_epochs = 20\n",
        "batch_size = 100\n",
        "sample_dir = 'samples'\n",
        "\n",
        "# Create a directory if not exists\n",
        "if not os.path.exists(sample_dir):\n",
        "    os.makedirs(sample_dir)\n",
        "\n",
        "\n",
        "transform = transforms.Compose([\n",
        "                transforms.ToTensor(),\n",
        "                transforms.Normalize(mean=[0.5],   # 1 for greyscale channels\n",
        "                                     std=[0.5])])\n",
        "\n",
        "# MNIST dataset\n",
        "mnist = torchvision.datasets.MNIST(root='./data/',\n",
        "                                   train=True,\n",
        "                                   transform=transform,\n",
        "                                   download=True)\n",
        "\n",
        "# Data loader\n",
        "data_loader = torch.utils.data.DataLoader(dataset=mnist,\n",
        "                                          batch_size=batch_size,\n",
        "                                          shuffle=True)"
      ]
    },
    {
      "cell_type": "markdown",
      "metadata": {
        "id": "Op4JHpk3eeW2"
      },
      "source": [
        "# 1. GAN"
      ]
    },
    {
      "cell_type": "markdown",
      "metadata": {
        "id": "eRVZN4freeW2"
      },
      "source": [
        "## Construct Class"
      ]
    },
    {
      "cell_type": "code",
      "execution_count": null,
      "metadata": {
        "id": "hzOkx1WGeeW3"
      },
      "outputs": [],
      "source": [
        "class Discriminator(nn.Module):\n",
        "    def __init__(self, image_size, hidden_size, leaky=0.2):\n",
        "        super(Discriminator, self).__init__()\n",
        "        # 728 -> 256\n",
        "        self.linear1 = nn.Linear(image_size, hidden_size)\n",
        "        self.lr = nn.LeakyReLU(0.2)\n",
        "        self.linear2 = nn.Linear(hidden_size, hidden_size)\n",
        "        self.linear3 = nn.Linear(hidden_size, 1)\n",
        "        self.sigmoid = nn.Sigmoid()\n",
        "\n",
        "    def forward(self, x):\n",
        "        x = self.linear1(x)\n",
        "        x = self.lr(x)\n",
        "        x = self.linear2(x)\n",
        "        x = self.lr(x)\n",
        "        x = self.linear3(x)\n",
        "        x = self.sigmoid(x)\n",
        "        return x"
      ]
    },
    {
      "cell_type": "code",
      "execution_count": null,
      "metadata": {
        "id": "jM7Lt665eeW3"
      },
      "outputs": [],
      "source": [
        "class Generator(nn.Module):\n",
        "    def __init__(self, latent_size, hidden_size, image_size):\n",
        "        super(Generator, self).__init__()\n",
        "        self.linear1 = nn.Linear(latent_size, hidden_size)\n",
        "        # 64 -> 256\n",
        "        self.relu = nn.ReLU()\n",
        "        self.linear2 = nn.Linear(hidden_size, hidden_size)\n",
        "        # 256->256\n",
        "        self.linear3 = nn.Linear(hidden_size, image_size)\n",
        "        # 256-> 728\n",
        "        self.tanh = nn.Tanh()\n",
        "\n",
        "    def forward(self, x):\n",
        "        x = self.linear1(x)\n",
        "        x = self.relu(x)\n",
        "        x = self.linear2(x)\n",
        "        x = self.relu(x)\n",
        "        x = self.linear3(x)\n",
        "        x = self.tanh(x)\n",
        "        return x"
      ]
    },
    {
      "cell_type": "code",
      "execution_count": null,
      "metadata": {
        "id": "sx7oTo1UeeW3"
      },
      "outputs": [],
      "source": [
        "D = Discriminator(image_size, hidden_size, leaky=0.2).to(device)\n",
        "\n",
        "G = Generator(latent_size, hidden_size, image_size).to(device)"
      ]
    },
    {
      "cell_type": "code",
      "execution_count": null,
      "metadata": {
        "colab": {
          "base_uri": "https://localhost:8080/"
        },
        "id": "HgsNkcloeeW4",
        "outputId": "a70ba430-2b70-4b5c-d857-994a68423d30"
      },
      "outputs": [
        {
          "output_type": "execute_result",
          "data": {
            "text/plain": [
              "Discriminator(\n",
              "  (linear1): Linear(in_features=784, out_features=256, bias=True)\n",
              "  (lr): LeakyReLU(negative_slope=0.2)\n",
              "  (linear2): Linear(in_features=256, out_features=256, bias=True)\n",
              "  (linear3): Linear(in_features=256, out_features=1, bias=True)\n",
              "  (sigmoid): Sigmoid()\n",
              ")"
            ]
          },
          "metadata": {},
          "execution_count": 10
        }
      ],
      "source": [
        "D"
      ]
    },
    {
      "cell_type": "code",
      "execution_count": null,
      "metadata": {
        "colab": {
          "base_uri": "https://localhost:8080/"
        },
        "id": "NYyomStkeeW4",
        "outputId": "e841d01a-a27e-4748-f920-47809424c18f"
      },
      "outputs": [
        {
          "output_type": "execute_result",
          "data": {
            "text/plain": [
              "Generator(\n",
              "  (linear1): Linear(in_features=64, out_features=256, bias=True)\n",
              "  (relu): ReLU()\n",
              "  (linear2): Linear(in_features=256, out_features=256, bias=True)\n",
              "  (linear3): Linear(in_features=256, out_features=784, bias=True)\n",
              "  (tanh): Tanh()\n",
              ")"
            ]
          },
          "metadata": {},
          "execution_count": 11
        }
      ],
      "source": [
        "G"
      ]
    },
    {
      "cell_type": "code",
      "execution_count": null,
      "metadata": {
        "id": "4JIiAy_aeeW4"
      },
      "outputs": [],
      "source": [
        "# Discriminator\n",
        "D = nn.Sequential(\n",
        "    nn.Linear(image_size, hidden_size),\n",
        "    nn.LeakyReLU(0.2),\n",
        "    nn.Linear(hidden_size, hidden_size),\n",
        "    nn.LeakyReLU(0.2),\n",
        "    nn.Linear(hidden_size, 1),\n",
        "    nn.Sigmoid())\n",
        "\n",
        "# Generator\n",
        "G = nn.Sequential(\n",
        "    nn.Linear(latent_size, hidden_size),\n",
        "    nn.ReLU(),\n",
        "    nn.Linear(hidden_size, hidden_size),\n",
        "    nn.ReLU(),\n",
        "    nn.Linear(hidden_size, image_size),\n",
        "    nn.Tanh())\n",
        "\n",
        "# Device setting\n"
      ]
    },
    {
      "cell_type": "code",
      "execution_count": null,
      "metadata": {
        "id": "rY4ahnkDeeW5"
      },
      "outputs": [],
      "source": [
        "D = D.to(device)\n",
        "G = G.to(device)"
      ]
    },
    {
      "cell_type": "code",
      "execution_count": null,
      "metadata": {
        "id": "7cJ5Sji-eeW5"
      },
      "outputs": [],
      "source": []
    },
    {
      "cell_type": "markdown",
      "metadata": {
        "id": "XyMKEFXAeeW5"
      },
      "source": [
        "# Set Criterion and Optimizer"
      ]
    },
    {
      "cell_type": "code",
      "execution_count": null,
      "metadata": {
        "id": "yMJpRF2XeeW5"
      },
      "outputs": [],
      "source": [
        "# Binary cross entropy loss and optimizer\n",
        "criterion = nn.BCELoss()\n",
        "d_optimizer = torch.optim.Adam(D.parameters(), lr=0.0002)\n",
        "g_optimizer = torch.optim.Adam(G.parameters(), lr=0.0002)"
      ]
    },
    {
      "cell_type": "markdown",
      "metadata": {
        "id": "mBY2Z4h8eeW5"
      },
      "source": [
        "# Useful Functions"
      ]
    },
    {
      "cell_type": "code",
      "execution_count": null,
      "metadata": {
        "id": "K6qFk8oNeeW5"
      },
      "outputs": [],
      "source": [
        "def denorm(x):\n",
        "    # TANH (-1, 1)\n",
        "    out = (x + 1) / 2\n",
        "    return out.clamp(0, 1)\n",
        "\n",
        "def reset_grad():\n",
        "    d_optimizer.zero_grad()\n",
        "    g_optimizer.zero_grad()"
      ]
    },
    {
      "cell_type": "markdown",
      "metadata": {
        "id": "xPJbL-qMeeW6"
      },
      "source": [
        "# Training GAN"
      ]
    },
    {
      "cell_type": "code",
      "execution_count": null,
      "metadata": {
        "scrolled": true,
        "colab": {
          "base_uri": "https://localhost:8080/"
        },
        "id": "0GFBw1cbeeW6",
        "outputId": "52e2e066-efc2-4d25-9ab3-35e2a5229c8a"
      },
      "outputs": [
        {
          "output_type": "stream",
          "name": "stdout",
          "text": [
            "Epoch [0/20], Step [200/600], d_loss: 0.0460, g_loss: 3.9716, D(x): 1.00, D(G(z)): 0.04\n",
            "Epoch [0/20], Step [400/600], d_loss: 0.0709, g_loss: 5.4503, D(x): 0.99, D(G(z)): 0.05\n",
            "Epoch [0/20], Step [600/600], d_loss: 0.1720, g_loss: 3.8745, D(x): 0.93, D(G(z)): 0.09\n",
            "Epoch [1/20], Step [200/600], d_loss: 0.0976, g_loss: 5.4177, D(x): 0.97, D(G(z)): 0.04\n",
            "Epoch [1/20], Step [400/600], d_loss: 0.3415, g_loss: 3.1205, D(x): 0.90, D(G(z)): 0.16\n",
            "Epoch [1/20], Step [600/600], d_loss: 0.2653, g_loss: 5.4463, D(x): 0.91, D(G(z)): 0.09\n",
            "Epoch [2/20], Step [200/600], d_loss: 0.2875, g_loss: 3.6872, D(x): 0.89, D(G(z)): 0.08\n",
            "Epoch [2/20], Step [400/600], d_loss: 0.3290, g_loss: 2.7554, D(x): 0.88, D(G(z)): 0.14\n",
            "Epoch [2/20], Step [600/600], d_loss: 0.5313, g_loss: 4.5628, D(x): 0.85, D(G(z)): 0.15\n",
            "Epoch [3/20], Step [200/600], d_loss: 0.5909, g_loss: 2.3615, D(x): 0.88, D(G(z)): 0.31\n",
            "Epoch [3/20], Step [400/600], d_loss: 0.5316, g_loss: 2.9255, D(x): 0.87, D(G(z)): 0.21\n",
            "Epoch [3/20], Step [600/600], d_loss: 0.2336, g_loss: 4.1006, D(x): 0.92, D(G(z)): 0.07\n",
            "Epoch [4/20], Step [200/600], d_loss: 0.4123, g_loss: 4.3740, D(x): 0.84, D(G(z)): 0.11\n",
            "Epoch [4/20], Step [400/600], d_loss: 0.2573, g_loss: 3.3264, D(x): 0.93, D(G(z)): 0.09\n",
            "Epoch [4/20], Step [600/600], d_loss: 0.1664, g_loss: 3.5153, D(x): 0.96, D(G(z)): 0.09\n",
            "Epoch [5/20], Step [200/600], d_loss: 0.2658, g_loss: 3.3484, D(x): 0.90, D(G(z)): 0.08\n",
            "Epoch [5/20], Step [400/600], d_loss: 0.4005, g_loss: 2.8431, D(x): 0.93, D(G(z)): 0.16\n",
            "Epoch [5/20], Step [600/600], d_loss: 0.1151, g_loss: 5.4405, D(x): 0.95, D(G(z)): 0.04\n",
            "Epoch [6/20], Step [200/600], d_loss: 0.1399, g_loss: 4.1799, D(x): 0.97, D(G(z)): 0.08\n",
            "Epoch [6/20], Step [400/600], d_loss: 0.1571, g_loss: 4.1340, D(x): 0.93, D(G(z)): 0.04\n",
            "Epoch [6/20], Step [600/600], d_loss: 0.1662, g_loss: 3.0189, D(x): 0.98, D(G(z)): 0.11\n",
            "Epoch [7/20], Step [200/600], d_loss: 0.1037, g_loss: 5.8988, D(x): 0.95, D(G(z)): 0.02\n",
            "Epoch [7/20], Step [400/600], d_loss: 0.1142, g_loss: 5.8032, D(x): 0.96, D(G(z)): 0.02\n",
            "Epoch [7/20], Step [600/600], d_loss: 0.3028, g_loss: 5.5861, D(x): 0.91, D(G(z)): 0.02\n",
            "Epoch [8/20], Step [200/600], d_loss: 0.2552, g_loss: 8.1371, D(x): 0.91, D(G(z)): 0.01\n",
            "Epoch [8/20], Step [400/600], d_loss: 0.1705, g_loss: 6.3211, D(x): 0.93, D(G(z)): 0.02\n",
            "Epoch [8/20], Step [600/600], d_loss: 0.2572, g_loss: 6.7446, D(x): 0.90, D(G(z)): 0.01\n",
            "Epoch [9/20], Step [200/600], d_loss: 0.0777, g_loss: 3.9865, D(x): 0.97, D(G(z)): 0.03\n",
            "Epoch [9/20], Step [400/600], d_loss: 0.1651, g_loss: 7.2523, D(x): 0.93, D(G(z)): 0.01\n",
            "Epoch [9/20], Step [600/600], d_loss: 0.4973, g_loss: 4.9243, D(x): 0.98, D(G(z)): 0.27\n",
            "Epoch [10/20], Step [200/600], d_loss: 0.2126, g_loss: 3.6342, D(x): 0.94, D(G(z)): 0.10\n",
            "Epoch [10/20], Step [400/600], d_loss: 0.3924, g_loss: 4.1178, D(x): 0.91, D(G(z)): 0.10\n",
            "Epoch [10/20], Step [600/600], d_loss: 0.1957, g_loss: 4.1380, D(x): 0.98, D(G(z)): 0.13\n",
            "Epoch [11/20], Step [200/600], d_loss: 0.4155, g_loss: 8.6698, D(x): 0.86, D(G(z)): 0.01\n",
            "Epoch [11/20], Step [400/600], d_loss: 0.2205, g_loss: 3.9307, D(x): 0.92, D(G(z)): 0.04\n",
            "Epoch [11/20], Step [600/600], d_loss: 0.2132, g_loss: 4.6099, D(x): 0.95, D(G(z)): 0.09\n",
            "Epoch [12/20], Step [200/600], d_loss: 0.1258, g_loss: 4.8001, D(x): 0.99, D(G(z)): 0.08\n",
            "Epoch [12/20], Step [400/600], d_loss: 0.0961, g_loss: 5.3462, D(x): 0.97, D(G(z)): 0.04\n",
            "Epoch [12/20], Step [600/600], d_loss: 0.1427, g_loss: 4.1955, D(x): 0.94, D(G(z)): 0.04\n",
            "Epoch [13/20], Step [200/600], d_loss: 0.2794, g_loss: 4.1616, D(x): 0.94, D(G(z)): 0.11\n",
            "Epoch [13/20], Step [400/600], d_loss: 0.2182, g_loss: 4.3419, D(x): 0.93, D(G(z)): 0.07\n",
            "Epoch [13/20], Step [600/600], d_loss: 0.1390, g_loss: 4.9729, D(x): 0.97, D(G(z)): 0.04\n",
            "Epoch [14/20], Step [200/600], d_loss: 0.1526, g_loss: 4.0495, D(x): 0.99, D(G(z)): 0.11\n",
            "Epoch [14/20], Step [400/600], d_loss: 0.2148, g_loss: 4.5364, D(x): 0.97, D(G(z)): 0.11\n",
            "Epoch [14/20], Step [600/600], d_loss: 0.0877, g_loss: 5.1376, D(x): 0.98, D(G(z)): 0.05\n",
            "Epoch [15/20], Step [200/600], d_loss: 0.2089, g_loss: 4.7490, D(x): 0.90, D(G(z)): 0.01\n",
            "Epoch [15/20], Step [400/600], d_loss: 0.1971, g_loss: 3.5976, D(x): 0.94, D(G(z)): 0.07\n",
            "Epoch [15/20], Step [600/600], d_loss: 0.1808, g_loss: 5.8175, D(x): 0.97, D(G(z)): 0.09\n",
            "Epoch [16/20], Step [200/600], d_loss: 0.1542, g_loss: 4.5509, D(x): 0.96, D(G(z)): 0.04\n",
            "Epoch [16/20], Step [400/600], d_loss: 0.2342, g_loss: 3.8570, D(x): 0.93, D(G(z)): 0.07\n",
            "Epoch [16/20], Step [600/600], d_loss: 0.1897, g_loss: 6.0221, D(x): 0.91, D(G(z)): 0.01\n",
            "Epoch [17/20], Step [200/600], d_loss: 0.1532, g_loss: 5.4975, D(x): 0.93, D(G(z)): 0.01\n",
            "Epoch [17/20], Step [400/600], d_loss: 0.1278, g_loss: 5.2562, D(x): 0.99, D(G(z)): 0.09\n",
            "Epoch [17/20], Step [600/600], d_loss: 0.1302, g_loss: 4.2310, D(x): 0.96, D(G(z)): 0.06\n",
            "Epoch [18/20], Step [200/600], d_loss: 0.2690, g_loss: 3.0124, D(x): 0.95, D(G(z)): 0.10\n",
            "Epoch [18/20], Step [400/600], d_loss: 0.3027, g_loss: 5.2752, D(x): 0.95, D(G(z)): 0.14\n",
            "Epoch [18/20], Step [600/600], d_loss: 0.2944, g_loss: 4.6247, D(x): 0.93, D(G(z)): 0.10\n",
            "Epoch [19/20], Step [200/600], d_loss: 0.2979, g_loss: 5.3764, D(x): 0.89, D(G(z)): 0.02\n",
            "Epoch [19/20], Step [400/600], d_loss: 0.3823, g_loss: 6.3711, D(x): 0.93, D(G(z)): 0.14\n",
            "Epoch [19/20], Step [600/600], d_loss: 0.1798, g_loss: 5.9273, D(x): 0.95, D(G(z)): 0.05\n"
          ]
        }
      ],
      "source": [
        "# Start training\n",
        "total_step = len(data_loader)\n",
        "for epoch in range(num_epochs):\n",
        "    for i, (images, _) in enumerate(data_loader):\n",
        "        images = images.reshape(batch_size, -1).to(device)\n",
        "\n",
        "        # Create the labels which are later used as input for the BCE loss\n",
        "        real_labels = torch.ones(batch_size, 1).to(device)\n",
        "        fake_labels = torch.zeros(batch_size, 1).to(device)\n",
        "\n",
        "        # ================================================================== #\n",
        "        #                      Train the discriminator                       #\n",
        "        # ================================================================== #\n",
        "\n",
        "        # Compute BCE_Loss using real images where BCE_Loss(x, y): - y * log(D(x)) - (1-y) * log(1 - D(x))\n",
        "        # Second term of the loss is always zero since real_labels == 1\n",
        "        outputs = D(images)\n",
        "        d_loss_real = criterion(outputs, real_labels)\n",
        "        real_score = outputs\n",
        "\n",
        "        # Compute BCELoss using fake images\n",
        "        # First term of the loss is always zero since fake_labels == 0\n",
        "        z = torch.randn(batch_size, latent_size).to(device)\n",
        "        fake_images = G(z)\n",
        "        outputs = D(fake_images)\n",
        "        d_loss_fake = criterion(outputs, fake_labels)\n",
        "        fake_score = outputs\n",
        "\n",
        "        # Backprop and optimize\n",
        "        d_loss = d_loss_real + d_loss_fake\n",
        "        reset_grad()\n",
        "        # calculates gradient\n",
        "        d_loss.backward()\n",
        "        # Update parameters\n",
        "        d_optimizer.step()\n",
        "\n",
        "        # ================================================================== #\n",
        "        #                        Train the generator                         #\n",
        "        # ================================================================== #\n",
        "\n",
        "        # Compute loss with fake images\n",
        "        z = torch.randn(batch_size, latent_size).to(device)\n",
        "        fake_images = G(z)\n",
        "        outputs = D(fake_images)\n",
        "\n",
        "        # We train G to maximize log(D(G(z)) instead of minimizing log(1-D(G(z)))\n",
        "        # For the reason, see the last paragraph of section 3. https://arxiv.org/pdf/1406.2661.pdf\n",
        "        g_loss = criterion(outputs, real_labels)\n",
        "\n",
        "        # Backprop and optimize\n",
        "        reset_grad()\n",
        "        g_loss.backward()\n",
        "        g_optimizer.step()\n",
        "\n",
        "        if (i+1) % 200 == 0:\n",
        "            print('Epoch [{}/{}], Step [{}/{}], d_loss: {:.4f}, g_loss: {:.4f}, D(x): {:.2f}, D(G(z)): {:.2f}'\n",
        "                  .format(epoch, num_epochs, i+1, total_step, d_loss.item(), g_loss.item(),\n",
        "                          real_score.mean().item(), fake_score.mean().item()))\n",
        "\n",
        "    # Save real images\n",
        "    if (epoch+1) == 1:\n",
        "        images = images.reshape(images.size(0), 1, 28, 28)\n",
        "        save_image(denorm(images), os.path.join(sample_dir, 'real_images.png'))\n",
        "\n",
        "    # Save sampled images\n",
        "    fake_images = fake_images.reshape(fake_images.size(0), 1, 28, 28)\n",
        "    save_image(denorm(fake_images), os.path.join(sample_dir, 'fake_images-{}.png'.format(epoch+1)))\n",
        "    torch.save(G.state_dict(), 'G.ckpt')\n",
        "    torch.save(D.state_dict(), 'D.ckpt')\n",
        "\n",
        "# Save the model checkpoints\n"
      ]
    },
    {
      "cell_type": "markdown",
      "metadata": {
        "id": "C2_acE-UeeW6"
      },
      "source": [
        "# 2. VAE"
      ]
    },
    {
      "cell_type": "code",
      "execution_count": null,
      "metadata": {
        "id": "2vDYeuSeeeW6"
      },
      "outputs": [],
      "source": [
        "import torch\n",
        "import torch.nn as nn\n",
        "import torch.nn.functional as F\n",
        "import torch.optim as optim\n",
        "\n",
        "from torch.utils.data import DataLoader\n",
        "from torchvision import datasets, transforms"
      ]
    },
    {
      "cell_type": "code",
      "execution_count": null,
      "metadata": {
        "id": "dgAnguWveeW6"
      },
      "outputs": [],
      "source": [
        "%matplotlib inline\n",
        "import matplotlib.pyplot as plt\n",
        "\n",
        "\n",
        "device = torch.device('cuda' if torch.cuda.is_available() else 'cpu')\n",
        "\n",
        "BATCH_SIZE = 64         # number of data points in each batch\n",
        "N_EPOCHS = 20           # times to run the model on complete data\n",
        "INPUT_DIM = 28 * 28     # size of each input\n",
        "HIDDEN_DIM = 256        # hidden dimension\n",
        "LATENT_DIM = 50         # latent vector dimension\n",
        "lr = 1e-3               # learning rate\n",
        "\n",
        "transform = transforms.Compose([transforms.ToTensor()])\n",
        "train_dataset = datasets.MNIST(\n",
        "    './data',\n",
        "    train=True,\n",
        "    download=True,\n",
        "    transform=transform)\n",
        "\n",
        "test_dataset = datasets.MNIST(\n",
        "    './data',\n",
        "    train=False,\n",
        "    download=True,\n",
        "    transform=transform\n",
        ")\n",
        "\n",
        "train_iterator = DataLoader(train_dataset, batch_size=BATCH_SIZE, shuffle=True)\n",
        "test_iterator = DataLoader(test_dataset, batch_size=BATCH_SIZE)"
      ]
    },
    {
      "cell_type": "markdown",
      "metadata": {
        "id": "AltBZUJIeeW7"
      },
      "source": [
        "# Construct Class"
      ]
    },
    {
      "cell_type": "code",
      "execution_count": null,
      "metadata": {
        "id": "Ms9Q6YBEeeW7"
      },
      "outputs": [],
      "source": [
        "class Encoder(nn.Module):\n",
        "    ''' This the encoder part of VAE\n",
        "    '''\n",
        "    def __init__(self, input_dim, hidden_dim, z_dim):\n",
        "        '''\n",
        "        Args:\n",
        "            input_dim: A integer indicating the size of input (in case of MNIST 28 * 28).\n",
        "            hidden_dim: A integer indicating the size of hidden dimension.\n",
        "            z_dim: A integer indicating the latent dimension.\n",
        "        '''\n",
        "        super(Encoder, self).__init__()\n",
        "\n",
        "        self.linear = nn.Linear(input_dim, hidden_dim)\n",
        "        self.mu = nn.Linear(hidden_dim, z_dim)\n",
        "        self.var = nn.Linear(hidden_dim, z_dim)\n",
        "\n",
        "    def forward(self, x):\n",
        "        # x is of shape [batch_size, input_dim]\n",
        "\n",
        "        hidden = F.relu(self.linear(x))\n",
        "        # hidden is of shape [batch_size, hidden_dim]\n",
        "        z_mu = self.mu(hidden)\n",
        "        # z_mu is of shape [batch_size, latent_dim]\n",
        "        z_var = self.var(hidden)\n",
        "        # z_var is of shape [batch_size, latent_dim]\n",
        "        # denotes for log(sigma^2)\n",
        "\n",
        "        return z_mu, z_var\n",
        "\n",
        "class Decoder(nn.Module):\n",
        "    ''' This the decoder part of VAE\n",
        "    '''\n",
        "    def __init__(self, z_dim, hidden_dim, output_dim):\n",
        "        '''\n",
        "        Args:\n",
        "            z_dim: A integer indicating the latent size.\n",
        "            hidden_dim: A integer indicating the size of hidden dimension.\n",
        "            output_dim: A integer indicating the output dimension (in case of MNIST it is 28 * 28)\n",
        "        '''\n",
        "        super(Decoder, self).__init__()\n",
        "\n",
        "        self.linear = nn.Linear(z_dim, hidden_dim)\n",
        "        self.out = nn.Linear(hidden_dim, output_dim)\n",
        "\n",
        "    def forward(self, x):\n",
        "        # x is of shape [batch_size, latent_dim]\n",
        "\n",
        "        hidden = F.relu(self.linear(x))\n",
        "        # hidden is of shape [batch_size, hidden_dim]\n",
        "\n",
        "        predicted = torch.sigmoid(self.out(hidden))\n",
        "        # predicted is of shape [batch_size, output_dim]\n",
        "        return predicted\n",
        "\n",
        "\n",
        "class VAE(nn.Module):\n",
        "    def __init__(self, enc, dec):\n",
        "        ''' This the VAE, which takes a encoder and decoder.\n",
        "        '''\n",
        "        super(VAE, self).__init__()\n",
        "\n",
        "        self.enc = enc\n",
        "        self.dec = dec\n",
        "\n",
        "    def forward(self, x):\n",
        "        # encode\n",
        "        z_mu, z_var = self.enc(x)\n",
        "\n",
        "        # sample from the distribution having latent parameters z_mu, z_var\n",
        "        # reparameterize\n",
        "        std = torch.exp(z_var / 2)\n",
        "        eps = torch.randn_like(std)\n",
        "        x_sample = eps.mul(std).add_(z_mu)\n",
        "\n",
        "        # decode\n",
        "        predicted = self.dec(x_sample)\n",
        "        return predicted, z_mu, z_var"
      ]
    },
    {
      "cell_type": "code",
      "execution_count": null,
      "metadata": {
        "id": "mrh7qQH0eeW7"
      },
      "outputs": [],
      "source": [
        "# encoder\n",
        "encoder = Encoder(INPUT_DIM, HIDDEN_DIM, LATENT_DIM)\n",
        "\n",
        "# decoder\n",
        "decoder = Decoder(LATENT_DIM, HIDDEN_DIM, INPUT_DIM)\n",
        "\n",
        "# vae\n",
        "model = VAE(encoder, decoder).to(device)\n",
        "\n",
        "# optimizer\n",
        "optimizer = optim.Adam(model.parameters(), lr=lr)"
      ]
    },
    {
      "cell_type": "markdown",
      "metadata": {
        "id": "y-Jsp6DOeeW7"
      },
      "source": [
        "# Train VAE"
      ]
    },
    {
      "cell_type": "code",
      "execution_count": null,
      "metadata": {
        "scrolled": true,
        "colab": {
          "base_uri": "https://localhost:8080/"
        },
        "id": "aA5qzep-eeW7",
        "outputId": "461be006-6c2d-4240-fb68-8e41dd096022"
      },
      "outputs": [
        {
          "output_type": "stream",
          "name": "stdout",
          "text": [
            "Epoch 0, Train Loss: 159.56, Test Loss: 129.34\n",
            "Epoch 1, Train Loss: 123.10, Test Loss: 116.89\n",
            "Epoch 2, Train Loss: 115.39, Test Loss: 112.20\n",
            "Epoch 3, Train Loss: 111.97, Test Loss: 110.22\n",
            "Epoch 4, Train Loss: 110.11, Test Loss: 109.24\n",
            "Epoch 5, Train Loss: 108.95, Test Loss: 107.85\n",
            "Epoch 6, Train Loss: 108.16, Test Loss: 107.34\n",
            "Epoch 7, Train Loss: 107.59, Test Loss: 106.74\n",
            "Epoch 8, Train Loss: 107.10, Test Loss: 106.36\n",
            "Epoch 9, Train Loss: 106.81, Test Loss: 106.33\n",
            "Epoch 10, Train Loss: 106.47, Test Loss: 106.09\n",
            "Epoch 11, Train Loss: 106.22, Test Loss: 106.25\n",
            "Epoch 12, Train Loss: 106.04, Test Loss: 105.58\n",
            "Epoch 13, Train Loss: 105.79, Test Loss: 105.31\n",
            "Epoch 14, Train Loss: 105.62, Test Loss: 105.33\n",
            "Epoch 15, Train Loss: 105.45, Test Loss: 104.98\n",
            "Epoch 16, Train Loss: 105.33, Test Loss: 104.90\n",
            "Epoch 17, Train Loss: 105.18, Test Loss: 104.71\n",
            "Epoch 18, Train Loss: 105.09, Test Loss: 104.99\n",
            "Epoch 19, Train Loss: 104.94, Test Loss: 104.68\n"
          ]
        }
      ],
      "source": [
        "def train():\n",
        "    # set the train mode\n",
        "    model.train()\n",
        "\n",
        "    # loss of the epoch\n",
        "    train_loss = 0\n",
        "\n",
        "    for i, (x, _) in enumerate(train_iterator):\n",
        "        # reshape the data into [batch_size, 784]\n",
        "        x = x.view(-1, 28 * 28)\n",
        "        x = x.to(device)\n",
        "\n",
        "        # update the gradients to zero\n",
        "        optimizer.zero_grad()\n",
        "\n",
        "        # forward pass\n",
        "        x_sample, z_mu, z_var = model(x)\n",
        "\n",
        "        # reconstruction loss\n",
        "        recon_loss = F.binary_cross_entropy(x_sample, x, reduction='sum')\n",
        "\n",
        "        # kl divergence loss\n",
        "        kl_loss = 0.5 * torch.sum(torch.exp(z_var) + z_mu**2 - 1.0 - z_var)\n",
        "\n",
        "        # total loss\n",
        "        loss = recon_loss + kl_loss\n",
        "\n",
        "        # backward pass\n",
        "        loss.backward()\n",
        "        train_loss += loss.item()\n",
        "\n",
        "        # update the weights\n",
        "        optimizer.step()\n",
        "\n",
        "    return train_loss\n",
        "\n",
        "\n",
        "def test():\n",
        "    # set the evaluation mode\n",
        "    model.eval()\n",
        "\n",
        "    # test loss for the data\n",
        "    test_loss = 0\n",
        "\n",
        "    # we don't need to track the gradients, since we are not updating the parameters during evaluation / testing\n",
        "    with torch.no_grad():\n",
        "        for i, (x, _) in enumerate(test_iterator):\n",
        "            # reshape the data\n",
        "            x = x.view(-1, 28 * 28)\n",
        "            x = x.to(device)\n",
        "\n",
        "            # forward pass\n",
        "            x_sample, z_mu, z_var = model(x)\n",
        "\n",
        "            # reconstruction loss\n",
        "            recon_loss = F.binary_cross_entropy(x_sample, x, reduction='sum')\n",
        "\n",
        "            # kl divergence loss\n",
        "            kl_loss = 0.5 * torch.sum(torch.exp(z_var) + z_mu**2 - 1.0 - z_var)\n",
        "\n",
        "            # total loss\n",
        "            loss = recon_loss + kl_loss\n",
        "            test_loss += loss.item()\n",
        "\n",
        "    return test_loss\n",
        "\n",
        "best_test_loss = float('inf')\n",
        "\n",
        "for e in range(N_EPOCHS):\n",
        "    train_loss = train()\n",
        "    test_loss = test()\n",
        "    train_loss /= len(train_dataset)\n",
        "    test_loss /= len(test_dataset)\n",
        "    print(f'Epoch {e}, Train Loss: {train_loss:.2f}, Test Loss: {test_loss:.2f}')\n",
        "    if best_test_loss > test_loss:\n",
        "        best_test_loss = test_loss\n",
        "        patience_counter = 1\n",
        "    else:\n",
        "        patience_counter += 1\n",
        "    if patience_counter > 3:\n",
        "        break"
      ]
    },
    {
      "cell_type": "code",
      "execution_count": null,
      "metadata": {
        "id": "xSKte5pheeW8",
        "outputId": "70781691-3229-40df-e9cd-294411e37868"
      },
      "outputs": [
        {
          "data": {
            "image/png": "[encoded data removed]",
            "text/plain": [
              "<Figure size 640x480 with 1 Axes>"
            ]
          },
          "metadata": {},
          "output_type": "display_data"
        },
        {
          "data": {
            "image/png": "[encoded data removed]",
            "text/plain": [
              "<Figure size 640x480 with 1 Axes>"
            ]
          },
          "metadata": {},
          "output_type": "display_data"
        },
        {
          "data": {
            "image/png": "[encoded data removed]",
            "text/plain": [
              "<Figure size 640x480 with 1 Axes>"
            ]
          },
          "metadata": {},
          "output_type": "display_data"
        },
        {
          "data": {
            "image/png": "[encoded data removed]",
            "text/plain": [
              "<Figure size 640x480 with 1 Axes>"
            ]
          },
          "metadata": {},
          "output_type": "display_data"
        },
        {
          "data": {
            "image/png": "[encoded data removed]",
            "text/plain": [
              "<Figure size 640x480 with 1 Axes>"
            ]
          },
          "metadata": {},
          "output_type": "display_data"
        },
        {
          "data": {
            "image/png": "[encoded data removed]",
            "text/plain": [
              "<Figure size 640x480 with 1 Axes>"
            ]
          },
          "metadata": {},
          "output_type": "display_data"
        },
        {
          "data": {
            "image/png": "[encoded data removed]",
            "text/plain": [
              "<Figure size 640x480 with 1 Axes>"
            ]
          },
          "metadata": {},
          "output_type": "display_data"
        },
        {
          "data": {
            "image/png": "[encoded data removed]",
            "text/plain": [
              "<Figure size 640x480 with 1 Axes>"
            ]
          },
          "metadata": {},
          "output_type": "display_data"
        },
        {
          "data": {
            "image/png": "[encoded data removed]",
            "text/plain": [
              "<Figure size 640x480 with 1 Axes>"
            ]
          },
          "metadata": {},
          "output_type": "display_data"
        },
        {
          "data": {
            "image/png": "[encoded data removed]",
            "text/plain": [
              "<Figure size 640x480 with 1 Axes>"
            ]
          },
          "metadata": {},
          "output_type": "display_data"
        }
      ],
      "source": [
        "# sample and generate a image\n",
        "for i in range(10):\n",
        "    z = torch.randn(1, LATENT_DIM).to(device)\n",
        "    reconstructed_img = model.dec(z)\n",
        "    img = reconstructed_img.cpu().view(28, 28).data\n",
        "\n",
        "    plt.figure()\n",
        "    plt.imshow(img, cmap='gray')\n",
        "    plt.show()"
      ]
    },
    {
      "cell_type": "markdown",
      "metadata": {
        "id": "0To6DMXkeeW8"
      },
      "source": [
        "# Reference"
      ]
    },
    {
      "cell_type": "markdown",
      "metadata": {
        "id": "cRXLpK3CeeW8"
      },
      "source": [
        "https://github.com/graviraja/pytorch-sample-codes/blob/master/simple_vae.py\n",
        "\n",
        "https://github.com/yunjey/pytorch-tutorial/blob/master/tutorials/03-advanced/generative_adversarial_network/main.py"
      ]
    },
    {
      "cell_type": "code",
      "execution_count": null,
      "metadata": {
        "id": "i03PELzYeeW8"
      },
      "outputs": [],
      "source": []
    }
  ],
  "metadata": {
    "kernelspec": {
      "display_name": "Python 3 (ipykernel)",
      "language": "python",
      "name": "python3"
    },
    "language_info": {
      "codemirror_mode": {
        "name": "ipython",
        "version": 3
      },
      "file_extension": ".py",
      "mimetype": "text/x-python",
      "name": "python",
      "nbconvert_exporter": "python",
      "pygments_lexer": "ipython3",
      "version": "3.11.4"
    },
    "vscode": {
      "interpreter": {
        "hash": "bd97cc9433e13331dc8eb1ada6668910206c8d18cd4b4447bd78261837192ee5"
      }
    },
    "colab": {
      "provenance": []
    }
  },
  "nbformat": 4,
  "nbformat_minor": 0
}